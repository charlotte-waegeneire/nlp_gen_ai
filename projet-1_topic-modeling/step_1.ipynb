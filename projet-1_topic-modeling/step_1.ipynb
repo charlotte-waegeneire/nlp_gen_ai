{
 "cells": [
  {
   "metadata": {
    "ExecuteTime": {
     "end_time": "2024-12-03T20:30:41.273793Z",
     "start_time": "2024-12-03T20:30:37.686652Z"
    }
   },
   "cell_type": "code",
   "source": [
    "import json\n",
    "from typing import List, Dict, Sized\n",
    "\n",
    "import spacy\n",
    "import jsonlines"
   ],
   "id": "48918ec03542fc8b",
   "outputs": [],
   "execution_count": 1
  },
  {
   "metadata": {
    "ExecuteTime": {
     "end_time": "2024-12-03T20:30:41.285624Z",
     "start_time": "2024-12-03T20:30:41.280539Z"
    }
   },
   "cell_type": "code",
   "source": [
    "def read_jsonl(file_path: str) -> List[Dict]:\n",
    "    \"\"\"\n",
    "    Lit le fichier JSONL et retourne les données sous forme de liste de dictionnaires\n",
    "    \"\"\"\n",
    "    data = []\n",
    "    with jsonlines.open(file_path) as reader:\n",
    "        for obj in reader:\n",
    "            data.append(obj)\n",
    "    return data"
   ],
   "id": "cc30edc28618526f",
   "outputs": [],
   "execution_count": 2
  },
  {
   "metadata": {
    "ExecuteTime": {
     "end_time": "2024-12-03T20:30:41.447555Z",
     "start_time": "2024-12-03T20:30:41.443263Z"
    }
   },
   "cell_type": "code",
   "source": [
    "def is_valid_token(token: Sized) -> bool:\n",
    "    \"\"\"\n",
    "    Vérifie si un token est valide\n",
    "    \"\"\"\n",
    "    return (\n",
    "            not token.is_stop  # pas de stopwords\n",
    "            and token.is_alpha  # pas de caractères non-alphabétiques\n",
    "            and token.pos_ != 'IN'  # pas de prépositions\n",
    "    )"
   ],
   "id": "1ba8fec8d8d39bfc",
   "outputs": [],
   "execution_count": 3
  },
  {
   "metadata": {
    "ExecuteTime": {
     "end_time": "2024-12-03T20:30:41.499119Z",
     "start_time": "2024-12-03T20:30:41.495289Z"
    }
   },
   "cell_type": "code",
   "source": [
    "def post_precess_token(token: Sized) -> bool:\n",
    "    \"\"\"\n",
    "    Enlève les résidus d'unités de mesure (mm, cm, m) présentes dans certains avis après avoir enlevé les nombres, et les tokens de moins de 3 caractères\n",
    "    \"\"\"\n",
    "    return len(token) > 2 and token not in ['mm', 'cm', 'm']"
   ],
   "id": "ea1a26f73dfb7791",
   "outputs": [],
   "execution_count": 4
  },
  {
   "metadata": {
    "ExecuteTime": {
     "end_time": "2024-12-03T20:30:41.543155Z",
     "start_time": "2024-12-03T20:30:41.538446Z"
    }
   },
   "cell_type": "code",
   "source": [
    "def preprocess_text(text: str) -> List[str]:\n",
    "    \"\"\"\n",
    "    Prétraite le texte : tokenisation, lemmatisation, suppression des stopwords\n",
    "    \"\"\"\n",
    "    doc = nlp(text.lower())\n",
    "\n",
    "    valid_tokens = [\n",
    "        token.lemma_\n",
    "        for token in doc\n",
    "        if is_valid_token(token)\n",
    "    ]\n",
    "\n",
    "    processed_tokens = [\n",
    "        token\n",
    "        for token in valid_tokens\n",
    "        if post_precess_token(token)\n",
    "    ]\n",
    "\n",
    "    return processed_tokens"
   ],
   "id": "2937f69d05b9258a",
   "outputs": [],
   "execution_count": 5
  },
  {
   "metadata": {
    "ExecuteTime": {
     "end_time": "2024-12-03T20:30:41.591120Z",
     "start_time": "2024-12-03T20:30:41.587165Z"
    }
   },
   "cell_type": "code",
   "source": [
    "def extract_relevant_fields(review: Dict) -> Dict:\n",
    "    \"\"\"\n",
    "    Extrait uniquement les champs pertinents de chaque avis\n",
    "    \"\"\"\n",
    "    return {\n",
    "        \"title\": review.get(\"title\", \"\"),\n",
    "        \"text\": review.get(\"text\", \"\"),\n",
    "    }"
   ],
   "id": "fa153cf72b3a4b90",
   "outputs": [],
   "execution_count": 6
  },
  {
   "metadata": {
    "ExecuteTime": {
     "end_time": "2024-12-03T20:30:41.640568Z",
     "start_time": "2024-12-03T20:30:41.636443Z"
    }
   },
   "cell_type": "code",
   "source": [
    "def export_data(filepath: str, data: List[Dict]):\n",
    "    with open(filepath, 'w', encoding='utf-8') as f:\n",
    "        json.dump(data, f, ensure_ascii=False, indent=2)"
   ],
   "id": "56b38b926d190ffd",
   "outputs": [],
   "execution_count": 7
  },
  {
   "metadata": {
    "ExecuteTime": {
     "end_time": "2024-12-03T20:30:42.425163Z",
     "start_time": "2024-12-03T20:30:41.684755Z"
    }
   },
   "cell_type": "code",
   "source": "nlp = spacy.load(\"en_core_web_sm\")",
   "id": "d5e0ee084cfe484a",
   "outputs": [],
   "execution_count": 8
  },
  {
   "metadata": {
    "ExecuteTime": {
     "end_time": "2024-12-03T20:30:42.599972Z",
     "start_time": "2024-12-03T20:30:42.434647Z"
    }
   },
   "cell_type": "code",
   "source": [
    "reviews = read_jsonl(\"data/reviews.jsonl\")\n",
    "processed_reviews_separated = []  # Pour séparer titre et texte\n",
    "processed_reviews_combined = []  # Pour tous les tokens ensemble"
   ],
   "id": "b9ed0f6441b3729e",
   "outputs": [],
   "execution_count": 9
  },
  {
   "metadata": {
    "ExecuteTime": {
     "end_time": "2024-12-03T20:30:53.926159Z",
     "start_time": "2024-12-03T20:30:42.610357Z"
    }
   },
   "cell_type": "code",
   "source": [
    "for review in reviews:\n",
    "    relevant_review = extract_relevant_fields(review)\n",
    "\n",
    "    title_tokens = preprocess_text(relevant_review[\"title\"])\n",
    "    text_tokens = preprocess_text(relevant_review[\"text\"])\n",
    "\n",
    "    processed_review_separated = {\n",
    "        \"title_tokens\": title_tokens,\n",
    "        \"text_tokens\": text_tokens\n",
    "    }\n",
    "    processed_reviews_separated.append(processed_review_separated)\n",
    "\n",
    "    all_tokens = title_tokens + text_tokens\n",
    "    processed_reviews_combined.append(all_tokens)"
   ],
   "id": "6bdd4faf9b858a7c",
   "outputs": [],
   "execution_count": 10
  },
  {
   "metadata": {
    "ExecuteTime": {
     "end_time": "2024-12-03T20:30:53.949901Z",
     "start_time": "2024-12-03T20:30:53.932445Z"
    }
   },
   "cell_type": "code",
   "source": [
    "export_data(\"post_process/processed_reviews.json\", processed_reviews_separated)\n",
    "export_data(\"post_process/processed_reviews_combined.json\", processed_reviews_combined)"
   ],
   "id": "924f20794f3bb4ac",
   "outputs": [],
   "execution_count": 11
  }
 ],
 "metadata": {
  "kernelspec": {
   "display_name": "Python 3",
   "language": "python",
   "name": "python3"
  },
  "language_info": {
   "codemirror_mode": {
    "name": "ipython",
    "version": 2
   },
   "file_extension": ".py",
   "mimetype": "text/x-python",
   "name": "python",
   "nbconvert_exporter": "python",
   "pygments_lexer": "ipython2",
   "version": "2.7.6"
  }
 },
 "nbformat": 4,
 "nbformat_minor": 5
}
