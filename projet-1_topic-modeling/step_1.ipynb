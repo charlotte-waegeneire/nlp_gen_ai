{
 "cells": [
  {
   "metadata": {
    "ExecuteTime": {
     "end_time": "2024-12-04T15:26:03.731739Z",
     "start_time": "2024-12-04T15:26:02.073502Z"
    }
   },
   "cell_type": "code",
   "source": [
    "import json\n",
    "from typing import List, Dict, Sized\n",
    "\n",
    "import spacy\n",
    "import jsonlines"
   ],
   "id": "77aa6b2d863c4f38",
   "outputs": [],
   "execution_count": 1
  },
  {
   "metadata": {
    "ExecuteTime": {
     "end_time": "2024-12-04T15:26:03.743929Z",
     "start_time": "2024-12-04T15:26:03.740743Z"
    }
   },
   "cell_type": "code",
   "source": [
    "def read_jsonl(file_path: str) -> List[Dict]:\n",
    "    \"\"\"\n",
    "    Reads a JSONL file and returns the data as a list of dictionaries\n",
    "    \n",
    "    Args:\n",
    "        file_path: Path to the JSONL file\n",
    "        \n",
    "    Returns:\n",
    "        List of dictionaries containing the data\n",
    "    \"\"\"\n",
    "    data = []\n",
    "    with jsonlines.open(file_path) as reader:\n",
    "        for obj in reader:\n",
    "            data.append(obj)\n",
    "    return data"
   ],
   "id": "3517a6d00ef3a00a",
   "outputs": [],
   "execution_count": 2
  },
  {
   "metadata": {
    "ExecuteTime": {
     "end_time": "2024-12-04T15:26:03.899175Z",
     "start_time": "2024-12-04T15:26:03.896668Z"
    }
   },
   "cell_type": "code",
   "source": [
    "def is_valid_token(token: Sized) -> bool:\n",
    "    \"\"\"\n",
    "    Checks if a token is valid based on specific criteria\n",
    "    \n",
    "    Args:\n",
    "        token: A spaCy token to validate\n",
    "        \n",
    "    Returns:\n",
    "        Boolean indicating if the token is valid\n",
    "        \n",
    "    Criteria:\n",
    "        - Not a stopword\n",
    "        - Contains only alphabetic characters\n",
    "        - Not a preposition (IN part of speech tag)\n",
    "    \"\"\"\n",
    "    return (\n",
    "            not token.is_stop\n",
    "            and token.is_alpha\n",
    "            and token.pos_ != \"IN\"\n",
    "    )"
   ],
   "id": "957f50cd23991a6b",
   "outputs": [],
   "execution_count": 3
  },
  {
   "metadata": {
    "ExecuteTime": {
     "end_time": "2024-12-04T15:26:03.943297Z",
     "start_time": "2024-12-04T15:26:03.940436Z"
    }
   },
   "cell_type": "code",
   "source": [
    "def post_precess_token(token: str) -> bool:\n",
    "    \"\"\"\n",
    "    Removes measurement unit residuals (mm, cm, m) that might remain in reviews\n",
    "    after removing numbers, and tokens shorter than 3 characters\n",
    "    \n",
    "    Args:\n",
    "        token: String token to process\n",
    "        \n",
    "    Returns:\n",
    "        Boolean indicating if the token should be kept\n",
    "    \"\"\"\n",
    "    return len(token) > 2 and token not in [\"mm\", \"cm\", \"m\"]"
   ],
   "id": "b24b9d55f9d92266",
   "outputs": [],
   "execution_count": 4
  },
  {
   "metadata": {
    "ExecuteTime": {
     "end_time": "2024-12-04T15:26:04.001704Z",
     "start_time": "2024-12-04T15:26:03.999340Z"
    }
   },
   "cell_type": "code",
   "source": [
    "def preprocess_text(text: str) -> List[str]:\n",
    "    \"\"\"\n",
    "    Preprocesses text: tokenization, lemmatization, stopwords removal\n",
    "    \n",
    "    Args:\n",
    "        text: Input text to process\n",
    "        \n",
    "    Returns:\n",
    "        List of processed tokens\n",
    "    \"\"\"\n",
    "    doc = nlp(text.lower())\n",
    "\n",
    "    valid_tokens = [\n",
    "        token.lemma_\n",
    "        for token in doc\n",
    "        if is_valid_token(token)\n",
    "    ]\n",
    "\n",
    "    processed_tokens = [\n",
    "        token\n",
    "        for token in valid_tokens\n",
    "        if post_precess_token(token)\n",
    "    ]\n",
    "\n",
    "    return processed_tokens"
   ],
   "id": "dcbc0d79a6f93951",
   "outputs": [],
   "execution_count": 5
  },
  {
   "metadata": {
    "ExecuteTime": {
     "end_time": "2024-12-04T15:26:04.048260Z",
     "start_time": "2024-12-04T15:26:04.045687Z"
    }
   },
   "cell_type": "code",
   "source": [
    "def extract_relevant_fields(review: Dict) -> Dict[str, str]:\n",
    "    \"\"\"\n",
    "    Extracts only relevant fields from each review\n",
    "    \n",
    "    Args:\n",
    "        review: Dictionary containing review data\n",
    "        \n",
    "    Returns:\n",
    "        Dictionary with only title and text fields\n",
    "    \"\"\"\n",
    "    return {\n",
    "        \"title\": review.get(\"title\", \"\"),\n",
    "        \"text\": review.get(\"text\", \"\"),\n",
    "    }"
   ],
   "id": "61b3775596ad58b0",
   "outputs": [],
   "execution_count": 6
  },
  {
   "metadata": {
    "ExecuteTime": {
     "end_time": "2024-12-04T15:26:04.096547Z",
     "start_time": "2024-12-04T15:26:04.094181Z"
    }
   },
   "cell_type": "code",
   "source": [
    "def export_data(filepath: str, data: List[Dict]) -> None:\n",
    "    \"\"\"\n",
    "    Exports data to a JSON file\n",
    "    \n",
    "    Args:\n",
    "        filepath: Path where to save the JSON file\n",
    "        data: Data to export\n",
    "    \"\"\"\n",
    "    with open(filepath, \"w\", encoding=\"utf-8\") as f:\n",
    "        json.dump(data, f, ensure_ascii=False, indent=2)"
   ],
   "id": "13ae5b71490019ce",
   "outputs": [],
   "execution_count": 7
  },
  {
   "metadata": {
    "ExecuteTime": {
     "end_time": "2024-12-04T15:26:04.541848Z",
     "start_time": "2024-12-04T15:26:04.139756Z"
    }
   },
   "cell_type": "code",
   "source": [
    "# Load English language model from spaCy\n",
    "nlp = spacy.load(\"en_core_web_sm\")"
   ],
   "id": "406687d5c25be960",
   "outputs": [],
   "execution_count": 8
  },
  {
   "metadata": {
    "ExecuteTime": {
     "end_time": "2024-12-04T15:26:04.551700Z",
     "start_time": "2024-12-04T15:26:04.546838Z"
    }
   },
   "cell_type": "code",
   "source": [
    "# Read reviews from JSONL file\n",
    "reviews = read_jsonl(\"data/reviews.jsonl\")\n",
    "processed_reviews_separated = []  # For separate title and text tokens\n",
    "processed_reviews_combined = []   # For all tokens combined"
   ],
   "id": "6493fcb5f2f224f7",
   "outputs": [],
   "execution_count": 9
  },
  {
   "metadata": {
    "ExecuteTime": {
     "end_time": "2024-12-04T15:26:13.169685Z",
     "start_time": "2024-12-04T15:26:04.590115Z"
    }
   },
   "cell_type": "code",
   "source": [
    "# Process each review\n",
    "for review in reviews:\n",
    "    relevant_review = extract_relevant_fields(review)\n",
    "\n",
    "    title_tokens = preprocess_text(relevant_review[\"title\"])\n",
    "    text_tokens = preprocess_text(relevant_review[\"text\"])\n",
    "\n",
    "    processed_review_separated = {\n",
    "        \"title_tokens\": title_tokens,\n",
    "        \"text_tokens\": text_tokens\n",
    "    }\n",
    "    processed_reviews_separated.append(processed_review_separated)\n",
    "\n",
    "    all_tokens = title_tokens + text_tokens\n",
    "    processed_reviews_combined.append(all_tokens)"
   ],
   "id": "ce7bc80e0714a13b",
   "outputs": [],
   "execution_count": 10
  },
  {
   "metadata": {
    "ExecuteTime": {
     "end_time": "2024-12-04T15:26:13.193181Z",
     "start_time": "2024-12-04T15:26:13.175636Z"
    }
   },
   "cell_type": "code",
   "source": [
    "# Export processed data\n",
    "export_data(\"post_process/processed_reviews.json\", processed_reviews_separated)\n",
    "export_data(\"post_process/processed_reviews_combined.json\", processed_reviews_combined)"
   ],
   "id": "c4a029bad894cc08",
   "outputs": [],
   "execution_count": 11
  }
 ],
 "metadata": {
  "kernelspec": {
   "display_name": "Python 3",
   "language": "python",
   "name": "python3"
  },
  "language_info": {
   "codemirror_mode": {
    "name": "ipython",
    "version": 2
   },
   "file_extension": ".py",
   "mimetype": "text/x-python",
   "name": "python",
   "nbconvert_exporter": "python",
   "pygments_lexer": "ipython2",
   "version": "2.7.6"
  }
 },
 "nbformat": 4,
 "nbformat_minor": 5
}
