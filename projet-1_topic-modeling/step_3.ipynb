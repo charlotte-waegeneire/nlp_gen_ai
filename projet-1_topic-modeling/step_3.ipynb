{
 "cells": [
  {
   "metadata": {},
   "cell_type": "markdown",
   "source": [
    "## Etape 3: analyse des sentiments des avis clients\n",
    "\n",
    "### Chargement et préparation des données"
   ],
   "id": "d0ca835748b77cf"
  },
  {
   "cell_type": "code",
   "id": "initial_id",
   "metadata": {
    "collapsed": true,
    "ExecuteTime": {
     "end_time": "2024-12-03T15:18:10.764946Z",
     "start_time": "2024-12-03T15:18:10.760579Z"
    }
   },
   "source": [
    "import json\n",
    "import pandas as pd"
   ],
   "outputs": [],
   "execution_count": 113
  },
  {
   "metadata": {
    "ExecuteTime": {
     "end_time": "2024-12-03T15:18:10.826003Z",
     "start_time": "2024-12-03T15:18:10.811817Z"
    }
   },
   "cell_type": "code",
   "source": [
    "# Lecture du fichier JSONL\n",
    "reviews = []\n",
    "with open(\"data/reviews.jsonl\", \"r\", encoding=\"utf-8\") as file:\n",
    "    for line in file:\n",
    "        review = json.loads(line)\n",
    "        reviews.append({\n",
    "            \"rating\": review[\"rating\"],\n",
    "            \"title\": review[\"title\"],\n",
    "            \"text\": review[\"text\"],  # Combinaison du titre et du texte\n",
    "        })"
   ],
   "id": "b66f445c10584f89",
   "outputs": [],
   "execution_count": 114
  },
  {
   "metadata": {
    "ExecuteTime": {
     "end_time": "2024-12-03T15:18:10.910255Z",
     "start_time": "2024-12-03T15:18:10.899513Z"
    }
   },
   "cell_type": "code",
   "source": [
    "original_reviews_df = pd.DataFrame(reviews)\n",
    "original_reviews_df.head()"
   ],
   "id": "8062794f763042f8",
   "outputs": [
    {
     "data": {
      "text/plain": [
       "   rating                                title  \\\n",
       "0     4.0     No white background! It’s clear!   \n",
       "1     5.0  Awesome!  Great price!  Works well!   \n",
       "2     5.0   Worked but took an hour to install   \n",
       "3     4.0                               Decent   \n",
       "4     5.0                             LOVE IT!   \n",
       "\n",
       "                                                text  \n",
       "0  I bought this bc I thought it had the nice whi...  \n",
       "1  Perfect. How pissed am I that I recently paid ...  \n",
       "2  Overall very happy with the end result. If you...  \n",
       "3  Lasted about 9 months then the lock button bro...  \n",
       "4  LOVE THIS CASE! Works better than my expensive...  "
      ],
      "text/html": [
       "<div>\n",
       "<style scoped>\n",
       "    .dataframe tbody tr th:only-of-type {\n",
       "        vertical-align: middle;\n",
       "    }\n",
       "\n",
       "    .dataframe tbody tr th {\n",
       "        vertical-align: top;\n",
       "    }\n",
       "\n",
       "    .dataframe thead th {\n",
       "        text-align: right;\n",
       "    }\n",
       "</style>\n",
       "<table border=\"1\" class=\"dataframe\">\n",
       "  <thead>\n",
       "    <tr style=\"text-align: right;\">\n",
       "      <th></th>\n",
       "      <th>rating</th>\n",
       "      <th>title</th>\n",
       "      <th>text</th>\n",
       "    </tr>\n",
       "  </thead>\n",
       "  <tbody>\n",
       "    <tr>\n",
       "      <th>0</th>\n",
       "      <td>4.0</td>\n",
       "      <td>No white background! It’s clear!</td>\n",
       "      <td>I bought this bc I thought it had the nice whi...</td>\n",
       "    </tr>\n",
       "    <tr>\n",
       "      <th>1</th>\n",
       "      <td>5.0</td>\n",
       "      <td>Awesome!  Great price!  Works well!</td>\n",
       "      <td>Perfect. How pissed am I that I recently paid ...</td>\n",
       "    </tr>\n",
       "    <tr>\n",
       "      <th>2</th>\n",
       "      <td>5.0</td>\n",
       "      <td>Worked but took an hour to install</td>\n",
       "      <td>Overall very happy with the end result. If you...</td>\n",
       "    </tr>\n",
       "    <tr>\n",
       "      <th>3</th>\n",
       "      <td>4.0</td>\n",
       "      <td>Decent</td>\n",
       "      <td>Lasted about 9 months then the lock button bro...</td>\n",
       "    </tr>\n",
       "    <tr>\n",
       "      <th>4</th>\n",
       "      <td>5.0</td>\n",
       "      <td>LOVE IT!</td>\n",
       "      <td>LOVE THIS CASE! Works better than my expensive...</td>\n",
       "    </tr>\n",
       "  </tbody>\n",
       "</table>\n",
       "</div>"
      ]
     },
     "execution_count": 115,
     "metadata": {},
     "output_type": "execute_result"
    }
   ],
   "execution_count": 115
  },
  {
   "metadata": {
    "ExecuteTime": {
     "end_time": "2024-12-03T15:18:11.020840Z",
     "start_time": "2024-12-03T15:18:11.016473Z"
    }
   },
   "cell_type": "code",
   "source": [
    "# Prendre 200 lignes aléatoires pour l'analyse\n",
    "reviews_df = original_reviews_df.sample(200, random_state=42)"
   ],
   "id": "3f38dae5b035426c",
   "outputs": [],
   "execution_count": 116
  },
  {
   "metadata": {},
   "cell_type": "markdown",
   "source": "### Chargement du modèle pré-entraîné",
   "id": "2ea629297f48543f"
  },
  {
   "metadata": {
    "ExecuteTime": {
     "end_time": "2024-12-03T15:18:11.031486Z",
     "start_time": "2024-12-03T15:18:11.027351Z"
    }
   },
   "cell_type": "code",
   "source": [
    "from transformers import AutoTokenizer, AutoModelForSequenceClassification\n",
    "import torch"
   ],
   "id": "636955c141db79c1",
   "outputs": [],
   "execution_count": 117
  },
  {
   "metadata": {
    "ExecuteTime": {
     "end_time": "2024-12-03T15:18:15.633053Z",
     "start_time": "2024-12-03T15:18:11.092467Z"
    }
   },
   "cell_type": "code",
   "source": [
    "# 2. Chargement du modèle et du tokenizer\n",
    "model_name = \"nlptown/bert-base-multilingual-uncased-sentiment\"\n",
    "model_tokenizer = AutoTokenizer.from_pretrained(model_name)\n",
    "model = AutoModelForSequenceClassification.from_pretrained(model_name)"
   ],
   "id": "ac6d26df8207f9b4",
   "outputs": [],
   "execution_count": 118
  },
  {
   "metadata": {
    "ExecuteTime": {
     "end_time": "2024-12-03T15:18:15.646664Z",
     "start_time": "2024-12-03T15:18:15.639292Z"
    }
   },
   "cell_type": "code",
   "source": [
    "# Permet de passer le modèle sur le GPU si celui-ci est disponible\n",
    "device = torch.device(\"cuda\" if torch.cuda.is_available() else \"cpu\")\n",
    "model = model.to(device)"
   ],
   "id": "3843cb746588ab64",
   "outputs": [],
   "execution_count": 119
  },
  {
   "metadata": {
    "ExecuteTime": {
     "end_time": "2024-12-03T15:18:15.710788Z",
     "start_time": "2024-12-03T15:18:15.701956Z"
    }
   },
   "cell_type": "code",
   "source": [
    "# Mettre le modèle en mode évaluation\n",
    "model.eval()"
   ],
   "id": "4debaee9a3d70468",
   "outputs": [
    {
     "data": {
      "text/plain": [
       "BertForSequenceClassification(\n",
       "  (bert): BertModel(\n",
       "    (embeddings): BertEmbeddings(\n",
       "      (word_embeddings): Embedding(105879, 768, padding_idx=0)\n",
       "      (position_embeddings): Embedding(512, 768)\n",
       "      (token_type_embeddings): Embedding(2, 768)\n",
       "      (LayerNorm): LayerNorm((768,), eps=1e-12, elementwise_affine=True)\n",
       "      (dropout): Dropout(p=0.1, inplace=False)\n",
       "    )\n",
       "    (encoder): BertEncoder(\n",
       "      (layer): ModuleList(\n",
       "        (0-11): 12 x BertLayer(\n",
       "          (attention): BertAttention(\n",
       "            (self): BertSdpaSelfAttention(\n",
       "              (query): Linear(in_features=768, out_features=768, bias=True)\n",
       "              (key): Linear(in_features=768, out_features=768, bias=True)\n",
       "              (value): Linear(in_features=768, out_features=768, bias=True)\n",
       "              (dropout): Dropout(p=0.1, inplace=False)\n",
       "            )\n",
       "            (output): BertSelfOutput(\n",
       "              (dense): Linear(in_features=768, out_features=768, bias=True)\n",
       "              (LayerNorm): LayerNorm((768,), eps=1e-12, elementwise_affine=True)\n",
       "              (dropout): Dropout(p=0.1, inplace=False)\n",
       "            )\n",
       "          )\n",
       "          (intermediate): BertIntermediate(\n",
       "            (dense): Linear(in_features=768, out_features=3072, bias=True)\n",
       "            (intermediate_act_fn): GELUActivation()\n",
       "          )\n",
       "          (output): BertOutput(\n",
       "            (dense): Linear(in_features=3072, out_features=768, bias=True)\n",
       "            (LayerNorm): LayerNorm((768,), eps=1e-12, elementwise_affine=True)\n",
       "            (dropout): Dropout(p=0.1, inplace=False)\n",
       "          )\n",
       "        )\n",
       "      )\n",
       "    )\n",
       "    (pooler): BertPooler(\n",
       "      (dense): Linear(in_features=768, out_features=768, bias=True)\n",
       "      (activation): Tanh()\n",
       "    )\n",
       "  )\n",
       "  (dropout): Dropout(p=0.1, inplace=False)\n",
       "  (classifier): Linear(in_features=768, out_features=5, bias=True)\n",
       ")"
      ]
     },
     "execution_count": 120,
     "metadata": {},
     "output_type": "execute_result"
    }
   ],
   "execution_count": 120
  },
  {
   "metadata": {
    "ExecuteTime": {
     "end_time": "2024-12-03T15:18:15.772218Z",
     "start_time": "2024-12-03T15:18:15.767830Z"
    }
   },
   "cell_type": "code",
   "source": "print(\"Modèle chargé sur:\", device)",
   "id": "a1d47b5dfca804aa",
   "outputs": [
    {
     "name": "stdout",
     "output_type": "stream",
     "text": [
      "Modèle chargé sur: cpu\n"
     ]
    }
   ],
   "execution_count": 121
  },
  {
   "metadata": {},
   "cell_type": "markdown",
   "source": "### Prétraitement des données",
   "id": "788fdd95477591"
  },
  {
   "metadata": {
    "ExecuteTime": {
     "end_time": "2024-12-03T15:18:15.825149Z",
     "start_time": "2024-12-03T15:18:15.821533Z"
    }
   },
   "cell_type": "code",
   "source": [
    "from torch.utils.data import Dataset, DataLoader\n",
    "from typing import List, Dict, Any\n",
    "import torch\n",
    "from transformers import AutoTokenizer\n",
    "import pandas as pd"
   ],
   "id": "9cd4f99ffef12069",
   "outputs": [],
   "execution_count": 122
  },
  {
   "metadata": {
    "ExecuteTime": {
     "end_time": "2024-12-03T15:18:15.876846Z",
     "start_time": "2024-12-03T15:18:15.871089Z"
    }
   },
   "cell_type": "code",
   "source": [
    "class ReviewDataset(Dataset):\n",
    "    def __init__(\n",
    "        self,\n",
    "        reviews_df: pd.DataFrame,\n",
    "        tokenizer: AutoTokenizer,\n",
    "        max_length: int = 512\n",
    "    ) -> None:\n",
    "        self.reviews = reviews_df\n",
    "        self.tokenizer = tokenizer\n",
    "        self.max_length = max_length\n",
    "\n",
    "    def __len__(self) -> int:\n",
    "        return len(self.reviews)\n",
    "\n",
    "    def __getitem__(self, idx: int) -> Dict[str, torch.Tensor]:\n",
    "        review = self.reviews.iloc[idx]\n",
    "        \n",
    "        # Combiner titre et texte pour le traitement\n",
    "        text = f\"{review['title']} {review['text']}\"\n",
    "        \n",
    "        # Tokenisation\n",
    "        encoding = self.tokenizer(\n",
    "            text,\n",
    "            max_length=self.max_length,\n",
    "            padding='max_length',\n",
    "            truncation=True,\n",
    "            return_tensors='pt'\n",
    "        )\n",
    "\n",
    "        return {\n",
    "            'input_ids': encoding['input_ids'].flatten(),\n",
    "            'attention_mask': encoding['attention_mask'].flatten(),\n",
    "            'rating': torch.tensor(review['rating'], dtype=torch.float)\n",
    "        }"
   ],
   "id": "6c64f60035c11f30",
   "outputs": [],
   "execution_count": 123
  },
  {
   "metadata": {
    "ExecuteTime": {
     "end_time": "2024-12-03T15:18:15.927210Z",
     "start_time": "2024-12-03T15:18:15.923140Z"
    }
   },
   "cell_type": "code",
   "source": [
    "def create_data_loader(\n",
    "    df: pd.DataFrame,\n",
    "    tokenizer: AutoTokenizer,\n",
    "    batch_size: int = 8,\n",
    "    max_length: int = 512\n",
    ") -> DataLoader:\n",
    "    \"\"\"\n",
    "    Crée un DataLoader pour les reviews\n",
    "    \"\"\"\n",
    "    dataset = ReviewDataset(\n",
    "        reviews_df=df,\n",
    "        tokenizer=tokenizer,\n",
    "        max_length=max_length\n",
    "    )\n",
    "    \n",
    "    return DataLoader(\n",
    "        dataset,\n",
    "        batch_size=batch_size,\n",
    "        shuffle=True\n",
    "    )"
   ],
   "id": "dc512be2dde95b17",
   "outputs": [],
   "execution_count": 124
  },
  {
   "metadata": {
    "ExecuteTime": {
     "end_time": "2024-12-03T15:18:15.992141Z",
     "start_time": "2024-12-03T15:18:15.970345Z"
    }
   },
   "cell_type": "code",
   "source": [
    "# Création du DataLoader\n",
    "batch_size = 8  # Ajustez selon vos ressources\n",
    "dataloader = create_data_loader(reviews_df, model_tokenizer, batch_size=batch_size)"
   ],
   "id": "cfd0a613231ffa3c",
   "outputs": [],
   "execution_count": 125
  },
  {
   "metadata": {
    "ExecuteTime": {
     "end_time": "2024-12-03T15:18:16.060389Z",
     "start_time": "2024-12-03T15:18:16.045800Z"
    }
   },
   "cell_type": "code",
   "source": [
    "first_batch = next(iter(dataloader))\n",
    "print(\"Taille du batch:\")\n",
    "print(f\"Input IDs shape: {first_batch['input_ids'].shape}\")\n",
    "print(f\"Attention mask shape: {first_batch['attention_mask'].shape}\")\n",
    "print(f\"Ratings shape: {first_batch['rating'].shape}\")"
   ],
   "id": "1ea54631b77fcde1",
   "outputs": [
    {
     "name": "stdout",
     "output_type": "stream",
     "text": [
      "Taille du batch:\n",
      "Input IDs shape: torch.Size([8, 512])\n",
      "Attention mask shape: torch.Size([8, 512])\n",
      "Ratings shape: torch.Size([8])\n"
     ]
    }
   ],
   "execution_count": 126
  },
  {
   "metadata": {},
   "cell_type": "markdown",
   "source": "### Analyse des sentiments",
   "id": "1f6e777622b53d22"
  },
  {
   "metadata": {
    "ExecuteTime": {
     "end_time": "2024-12-03T15:18:16.115068Z",
     "start_time": "2024-12-03T15:18:16.111078Z"
    }
   },
   "cell_type": "code",
   "source": [
    "from typing import Dict, List, Tuple\n",
    "import torch\n",
    "import torch.nn.functional as F\n",
    "from torch import Tensor\n",
    "from transformers import AutoModelForSequenceClassification\n",
    "from torch.utils.data import DataLoader"
   ],
   "id": "cc738e5fef13b1b6",
   "outputs": [],
   "execution_count": 127
  },
  {
   "metadata": {
    "ExecuteTime": {
     "end_time": "2024-12-03T15:18:16.188693Z",
     "start_time": "2024-12-03T15:18:16.181749Z"
    }
   },
   "cell_type": "code",
   "source": [
    "def predict_sentiment(\n",
    "    model: AutoModelForSequenceClassification,\n",
    "    dataloader: DataLoader,\n",
    "    device: torch.device\n",
    ") -> Tuple[List[float], List[float]]:\n",
    "    \"\"\"\n",
    "    Prédit les sentiments pour tous les reviews dans le dataloader\n",
    "    \n",
    "    Returns:\n",
    "        Tuple contenant les prédictions et les vraies notes\n",
    "    \"\"\"\n",
    "    predictions = []\n",
    "    actual_ratings = []\n",
    "    \n",
    "    # Désactive le calcul des gradients pour l'inférence\n",
    "    with torch.no_grad():\n",
    "        for batch in dataloader:\n",
    "            # Déplace les données sur le device approprié\n",
    "            input_ids = batch['input_ids'].to(device)\n",
    "            attention_mask = batch['attention_mask'].to(device)\n",
    "            ratings = batch['rating'].to(device)\n",
    "            \n",
    "            # Forward pass\n",
    "            outputs = model(\n",
    "                input_ids=input_ids,\n",
    "                attention_mask=attention_mask\n",
    "            )\n",
    "            \n",
    "            # Applique softmax pour obtenir les probabilités\n",
    "            probs = F.softmax(outputs.logits, dim=1)\n",
    "            \n",
    "            # Obtient l'indice de la classe la plus probable et ajoute 1 \n",
    "            # car les labels sont de 1 à 5\n",
    "            predicted_ratings = torch.argmax(probs, dim=1) + 1\n",
    "            \n",
    "            # Stocke les prédictions et les vraies notes\n",
    "            predictions.extend(predicted_ratings.cpu().tolist())\n",
    "            actual_ratings.extend(ratings.cpu().tolist())\n",
    "    \n",
    "    return predictions, actual_ratings"
   ],
   "id": "90f1141f9407813b",
   "outputs": [],
   "execution_count": 128
  },
  {
   "metadata": {
    "ExecuteTime": {
     "end_time": "2024-12-03T15:18:16.257967Z",
     "start_time": "2024-12-03T15:18:16.253058Z"
    }
   },
   "cell_type": "code",
   "source": [
    "def calculate_metrics(\n",
    "    predictions: List[float],\n",
    "    actual_ratings: List[float]\n",
    ") -> Dict[str, float]:\n",
    "    \"\"\"\n",
    "    Calcule les métriques de performance\n",
    "    \"\"\"\n",
    "    predictions_tensor = torch.tensor(predictions)\n",
    "    actual_ratings_tensor = torch.tensor(actual_ratings)\n",
    "    \n",
    "    # Calcul de la corrélation de Pearson\n",
    "    correlation = torch.corrcoef(\n",
    "        torch.stack([predictions_tensor.float(), actual_ratings_tensor.float()])\n",
    "    )[0,1].item()\n",
    "    \n",
    "    # Calcul de l'exactitude (prédictions exactes)\n",
    "    accuracy = (predictions_tensor == actual_ratings_tensor).float().mean().item()\n",
    "    \n",
    "    return {\n",
    "        \"correlation\": correlation,\n",
    "        \"accuracy\": accuracy\n",
    "    }"
   ],
   "id": "2aacb309a9f65d7",
   "outputs": [],
   "execution_count": 129
  },
  {
   "metadata": {
    "ExecuteTime": {
     "end_time": "2024-12-03T15:19:27.746917Z",
     "start_time": "2024-12-03T15:18:16.306735Z"
    }
   },
   "cell_type": "code",
   "source": [
    "# Exécution des prédictions\n",
    "predictions, actual_ratings = predict_sentiment(model, dataloader, device)"
   ],
   "id": "d23694a8777b303",
   "outputs": [],
   "execution_count": 130
  },
  {
   "metadata": {
    "ExecuteTime": {
     "end_time": "2024-12-03T15:19:27.806080Z",
     "start_time": "2024-12-03T15:19:27.801748Z"
    }
   },
   "cell_type": "code",
   "source": [
    "# Calcul et affichage des métriques\n",
    "metrics = calculate_metrics(predictions, actual_ratings)\n",
    "print(\"\\nMétriques de performance:\")\n",
    "print(f\"Corrélation de Pearson: {metrics['correlation']:.3f}\")\n",
    "print(f\"Exactitude: {metrics['accuracy']:.3f}\")"
   ],
   "id": "30b5effaf2d5aeda",
   "outputs": [
    {
     "name": "stdout",
     "output_type": "stream",
     "text": [
      "\n",
      "Métriques de performance:\n",
      "Corrélation de Pearson: 0.874\n",
      "Exactitude: 0.730\n"
     ]
    }
   ],
   "execution_count": 131
  },
  {
   "metadata": {},
   "cell_type": "markdown",
   "source": "### Bonus: Visualisation des résultats",
   "id": "5c93c61ee8c8f9de"
  },
  {
   "metadata": {
    "ExecuteTime": {
     "end_time": "2024-12-03T15:19:27.855909Z",
     "start_time": "2024-12-03T15:19:27.852045Z"
    }
   },
   "cell_type": "code",
   "source": [
    "import matplotlib.pyplot as plt\n",
    "import seaborn as sns\n",
    "from typing import List, Tuple\n",
    "import numpy as np"
   ],
   "id": "3848d472a9384d76",
   "outputs": [],
   "execution_count": 132
  },
  {
   "metadata": {
    "ExecuteTime": {
     "end_time": "2024-12-03T15:19:27.917439Z",
     "start_time": "2024-12-03T15:19:27.910837Z"
    }
   },
   "cell_type": "code",
   "source": [
    "def create_comparison_plots(\n",
    "        predictions: List[float],\n",
    "        actual_ratings: List[float],\n",
    "        figsize: Tuple[int, int] = (15, 5)\n",
    ") -> None:\n",
    "    \"\"\"\n",
    "    Crée des visualisations comparatives entre les notes prédites et réelles\n",
    "    \"\"\"\n",
    "    fig, (ax1, ax2, ax3) = plt.subplots(1, 3, figsize=figsize)\n",
    "\n",
    "    # 1. Distribution des notes réelles vs prédites\n",
    "    df_plot = pd.DataFrame({\n",
    "        'Prédictions': predictions,\n",
    "        'Notes réelles': actual_ratings\n",
    "    })\n",
    "\n",
    "    sns.kdeplot(data=df_plot, ax=ax1)\n",
    "    ax1.set_title('Distribution des notes')\n",
    "    ax1.set_xlabel('Note (1-5)')\n",
    "    ax1.set_ylabel('Densité')\n",
    "\n",
    "    # 2. Boîte à moustaches\n",
    "    df_plot_melted = df_plot.melt(var_name='Type', value_name='Note')\n",
    "    sns.boxplot(data=df_plot_melted, x='Type', y='Note', ax=ax2)\n",
    "    ax2.set_title('Boîte à moustaches des notes')\n",
    "\n",
    "    # 3. Heatmap de confusion\n",
    "    confusion = np.zeros((5, 5))\n",
    "    for pred, actual in zip(predictions, actual_ratings):\n",
    "        confusion[int(pred - 1)][int(actual - 1)] += 1\n",
    "\n",
    "    sns.heatmap(\n",
    "        confusion,\n",
    "        annot=True,\n",
    "        fmt='g',\n",
    "        cmap='YlOrRd',\n",
    "        ax=ax3,\n",
    "        xticklabels=range(1, 6),\n",
    "        yticklabels=range(1, 6)\n",
    "    )\n",
    "    ax3.set_title('Matrice de confusion')\n",
    "    ax3.set_xlabel('Notes réelles')\n",
    "    ax3.set_ylabel('Prédictions')\n",
    "\n",
    "    plt.tight_layout()\n",
    "    plt.show()"
   ],
   "id": "35dfe3144f2668c4",
   "outputs": [],
   "execution_count": 133
  },
  {
   "metadata": {
    "ExecuteTime": {
     "end_time": "2024-12-03T15:19:27.968330Z",
     "start_time": "2024-12-03T15:19:27.963822Z"
    }
   },
   "cell_type": "code",
   "source": [
    "def print_detailed_stats(\n",
    "        predictions: List[float],\n",
    "        actual_ratings: List[float]\n",
    ") -> None:\n",
    "    \"\"\"\n",
    "    Affiche des statistiques détaillées sur les prédictions\n",
    "    \"\"\"\n",
    "    pred_series = pd.Series(predictions)\n",
    "    actual_series = pd.Series(actual_ratings)\n",
    "\n",
    "    stats = {\n",
    "        'Moyenne des prédictions': pred_series.mean(),\n",
    "        'Moyenne des notes réelles': actual_series.mean(),\n",
    "        'Écart-type des prédictions': pred_series.std(),\n",
    "        'Écart-type des notes réelles': actual_series.std(),\n",
    "        'Médiane des prédictions': pred_series.median(),\n",
    "        'Médiane des notes réelles': actual_series.median()\n",
    "    }\n",
    "\n",
    "    print(\"\\nStatistiques détaillées:\")\n",
    "    for key, value in stats.items():\n",
    "        print(f\"{key}: {value:.2f}\")"
   ],
   "id": "cd38b1b8adc6dc3d",
   "outputs": [],
   "execution_count": 134
  },
  {
   "metadata": {
    "ExecuteTime": {
     "end_time": "2024-12-03T15:19:28.476080Z",
     "start_time": "2024-12-03T15:19:28.015395Z"
    }
   },
   "cell_type": "code",
   "source": [
    "# Création des visualisations\n",
    "create_comparison_plots(predictions, actual_ratings)"
   ],
   "id": "dd4779929c222db0",
   "outputs": [
    {
     "data": {
      "text/plain": [
       "<Figure size 1500x500 with 4 Axes>"
      ],
      "image/png": "[encoded data removed]"
     },
     "metadata": {},
     "output_type": "display_data"
    }
   ],
   "execution_count": 135
  },
  {
   "metadata": {},
   "cell_type": "markdown",
   "source": "Grâce aux graph ci-dessus, on peut constater que le modèle interprète très bien les sentiments des commentaires, puisqu'il retrouve les notes données par les clients. Les notes prédites sont très proches des notes réelles, voire identifiques.",
   "id": "315a5b182794ce50"
  },
  {
   "metadata": {
    "ExecuteTime": {
     "end_time": "2024-12-03T15:22:41.043836Z",
     "start_time": "2024-12-03T15:22:41.037629Z"
    }
   },
   "cell_type": "code",
   "source": "print_detailed_stats(predictions, actual_ratings)",
   "id": "514374d3c6353606",
   "outputs": [
    {
     "name": "stdout",
     "output_type": "stream",
     "text": [
      "\n",
      "Statistiques détaillées:\n",
      "Moyenne des prédictions: 4.02\n",
      "Moyenne des notes réelles: 4.14\n",
      "Écart-type des prédictions: 1.33\n",
      "Écart-type des notes réelles: 1.35\n",
      "Médiane des prédictions: 5.00\n",
      "Médiane des notes réelles: 5.00\n"
     ]
    }
   ],
   "execution_count": 136
  },
  {
   "metadata": {},
   "cell_type": "code",
   "outputs": [],
   "execution_count": null,
   "source": "",
   "id": "b170331966c26110"
  }
 ],
 "metadata": {
  "kernelspec": {
   "display_name": "Python 3",
   "language": "python",
   "name": "python3"
  },
  "language_info": {
   "codemirror_mode": {
    "name": "ipython",
    "version": 2
   },
   "file_extension": ".py",
   "mimetype": "text/x-python",
   "name": "python",
   "nbconvert_exporter": "python",
   "pygments_lexer": "ipython2",
   "version": "2.7.6"
  }
 },
 "nbformat": 4,
 "nbformat_minor": 5
}
