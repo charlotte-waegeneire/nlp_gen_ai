{
 "cells": [
  {
   "metadata": {},
   "cell_type": "markdown",
   "source": [
    "## Step 3: Sentiment analysis of customer reviews\n",
    "\n",
    "### Loading and preparing the data"
   ],
   "id": "d0ca835748b77cf"
  },
  {
   "cell_type": "code",
   "id": "initial_id",
   "metadata": {
    "collapsed": true,
    "ExecuteTime": {
     "end_time": "2024-12-05T14:08:57.074959Z",
     "start_time": "2024-12-05T14:08:57.073007Z"
    }
   },
   "source": [
    "import json\n",
    "import pandas as pd"
   ],
   "outputs": [],
   "execution_count": 2
  },
  {
   "metadata": {
    "ExecuteTime": {
     "end_time": "2024-12-05T14:08:57.094241Z",
     "start_time": "2024-12-05T14:08:57.087298Z"
    }
   },
   "cell_type": "code",
   "source": [
    "reviews = []\n",
    "with open(\"data/reviews.jsonl\", \"r\", encoding=\"utf-8\") as file:\n",
    "    for line in file:\n",
    "        review = json.loads(line)\n",
    "        reviews.append({\n",
    "            \"rating\": review[\"rating\"],\n",
    "            \"title\": review[\"title\"],\n",
    "            \"text\": review[\"text\"],\n",
    "        })"
   ],
   "id": "b66f445c10584f89",
   "outputs": [],
   "execution_count": 3
  },
  {
   "metadata": {
    "ExecuteTime": {
     "end_time": "2024-12-05T14:08:57.151542Z",
     "start_time": "2024-12-05T14:08:57.140574Z"
    }
   },
   "cell_type": "code",
   "source": [
    "original_reviews_df = pd.DataFrame(reviews)\n",
    "original_reviews_df.head()"
   ],
   "id": "8062794f763042f8",
   "outputs": [
    {
     "data": {
      "text/plain": [
       "   rating                                title  \\\n",
       "0     4.0     No white background! It’s clear!   \n",
       "1     5.0  Awesome!  Great price!  Works well!   \n",
       "2     5.0   Worked but took an hour to install   \n",
       "3     4.0                               Decent   \n",
       "4     5.0                             LOVE IT!   \n",
       "\n",
       "                                                text  \n",
       "0  I bought this bc I thought it had the nice whi...  \n",
       "1  Perfect. How pissed am I that I recently paid ...  \n",
       "2  Overall very happy with the end result. If you...  \n",
       "3  Lasted about 9 months then the lock button bro...  \n",
       "4  LOVE THIS CASE! Works better than my expensive...  "
      ],
      "text/html": [
       "<div>\n",
       "<style scoped>\n",
       "    .dataframe tbody tr th:only-of-type {\n",
       "        vertical-align: middle;\n",
       "    }\n",
       "\n",
       "    .dataframe tbody tr th {\n",
       "        vertical-align: top;\n",
       "    }\n",
       "\n",
       "    .dataframe thead th {\n",
       "        text-align: right;\n",
       "    }\n",
       "</style>\n",
       "<table border=\"1\" class=\"dataframe\">\n",
       "  <thead>\n",
       "    <tr style=\"text-align: right;\">\n",
       "      <th></th>\n",
       "      <th>rating</th>\n",
       "      <th>title</th>\n",
       "      <th>text</th>\n",
       "    </tr>\n",
       "  </thead>\n",
       "  <tbody>\n",
       "    <tr>\n",
       "      <th>0</th>\n",
       "      <td>4.0</td>\n",
       "      <td>No white background! It’s clear!</td>\n",
       "      <td>I bought this bc I thought it had the nice whi...</td>\n",
       "    </tr>\n",
       "    <tr>\n",
       "      <th>1</th>\n",
       "      <td>5.0</td>\n",
       "      <td>Awesome!  Great price!  Works well!</td>\n",
       "      <td>Perfect. How pissed am I that I recently paid ...</td>\n",
       "    </tr>\n",
       "    <tr>\n",
       "      <th>2</th>\n",
       "      <td>5.0</td>\n",
       "      <td>Worked but took an hour to install</td>\n",
       "      <td>Overall very happy with the end result. If you...</td>\n",
       "    </tr>\n",
       "    <tr>\n",
       "      <th>3</th>\n",
       "      <td>4.0</td>\n",
       "      <td>Decent</td>\n",
       "      <td>Lasted about 9 months then the lock button bro...</td>\n",
       "    </tr>\n",
       "    <tr>\n",
       "      <th>4</th>\n",
       "      <td>5.0</td>\n",
       "      <td>LOVE IT!</td>\n",
       "      <td>LOVE THIS CASE! Works better than my expensive...</td>\n",
       "    </tr>\n",
       "  </tbody>\n",
       "</table>\n",
       "</div>"
      ]
     },
     "execution_count": 4,
     "metadata": {},
     "output_type": "execute_result"
    }
   ],
   "execution_count": 4
  },
  {
   "metadata": {
    "ExecuteTime": {
     "end_time": "2024-12-05T14:08:57.201635Z",
     "start_time": "2024-12-05T14:08:57.196788Z"
    }
   },
   "cell_type": "code",
   "source": [
    "# Sampling the data for faster processing\n",
    "reviews_df = original_reviews_df.sample(200, random_state=42)"
   ],
   "id": "3f38dae5b035426c",
   "outputs": [],
   "execution_count": 5
  },
  {
   "metadata": {},
   "cell_type": "markdown",
   "source": "### Loading the pre-trained model",
   "id": "2ea629297f48543f"
  },
  {
   "metadata": {
    "ExecuteTime": {
     "end_time": "2024-12-05T14:08:58.929820Z",
     "start_time": "2024-12-05T14:08:57.244509Z"
    }
   },
   "cell_type": "code",
   "source": [
    "from transformers import AutoTokenizer, AutoModelForSequenceClassification\n",
    "import torch"
   ],
   "id": "636955c141db79c1",
   "outputs": [],
   "execution_count": 6
  },
  {
   "metadata": {
    "ExecuteTime": {
     "end_time": "2024-12-05T14:09:00.480685Z",
     "start_time": "2024-12-05T14:08:58.948821Z"
    }
   },
   "cell_type": "code",
   "source": [
    "# Load the pre-trained model\n",
    "model_name = \"nlptown/bert-base-multilingual-uncased-sentiment\"\n",
    "model_tokenizer = AutoTokenizer.from_pretrained(model_name)\n",
    "model = AutoModelForSequenceClassification.from_pretrained(model_name)"
   ],
   "id": "ac6d26df8207f9b4",
   "outputs": [],
   "execution_count": 7
  },
  {
   "metadata": {
    "ExecuteTime": {
     "end_time": "2024-12-05T14:09:00.489123Z",
     "start_time": "2024-12-05T14:09:00.483914Z"
    }
   },
   "cell_type": "code",
   "source": [
    "# Move the model to the appropriate device\n",
    "device = torch.device(\"cuda\" if torch.cuda.is_available() else \"cpu\")\n",
    "model = model.to(device)"
   ],
   "id": "3843cb746588ab64",
   "outputs": [],
   "execution_count": 8
  },
  {
   "metadata": {
    "ExecuteTime": {
     "end_time": "2024-12-05T14:09:00.538570Z",
     "start_time": "2024-12-05T14:09:00.532974Z"
    }
   },
   "cell_type": "code",
   "source": [
    "# Set the model to evaluation mode: this means that some operations like dropout won't be applied\n",
    "model.eval()"
   ],
   "id": "4debaee9a3d70468",
   "outputs": [
    {
     "data": {
      "text/plain": [
       "BertForSequenceClassification(\n",
       "  (bert): BertModel(\n",
       "    (embeddings): BertEmbeddings(\n",
       "      (word_embeddings): Embedding(105879, 768, padding_idx=0)\n",
       "      (position_embeddings): Embedding(512, 768)\n",
       "      (token_type_embeddings): Embedding(2, 768)\n",
       "      (LayerNorm): LayerNorm((768,), eps=1e-12, elementwise_affine=True)\n",
       "      (dropout): Dropout(p=0.1, inplace=False)\n",
       "    )\n",
       "    (encoder): BertEncoder(\n",
       "      (layer): ModuleList(\n",
       "        (0-11): 12 x BertLayer(\n",
       "          (attention): BertAttention(\n",
       "            (self): BertSdpaSelfAttention(\n",
       "              (query): Linear(in_features=768, out_features=768, bias=True)\n",
       "              (key): Linear(in_features=768, out_features=768, bias=True)\n",
       "              (value): Linear(in_features=768, out_features=768, bias=True)\n",
       "              (dropout): Dropout(p=0.1, inplace=False)\n",
       "            )\n",
       "            (output): BertSelfOutput(\n",
       "              (dense): Linear(in_features=768, out_features=768, bias=True)\n",
       "              (LayerNorm): LayerNorm((768,), eps=1e-12, elementwise_affine=True)\n",
       "              (dropout): Dropout(p=0.1, inplace=False)\n",
       "            )\n",
       "          )\n",
       "          (intermediate): BertIntermediate(\n",
       "            (dense): Linear(in_features=768, out_features=3072, bias=True)\n",
       "            (intermediate_act_fn): GELUActivation()\n",
       "          )\n",
       "          (output): BertOutput(\n",
       "            (dense): Linear(in_features=3072, out_features=768, bias=True)\n",
       "            (LayerNorm): LayerNorm((768,), eps=1e-12, elementwise_affine=True)\n",
       "            (dropout): Dropout(p=0.1, inplace=False)\n",
       "          )\n",
       "        )\n",
       "      )\n",
       "    )\n",
       "    (pooler): BertPooler(\n",
       "      (dense): Linear(in_features=768, out_features=768, bias=True)\n",
       "      (activation): Tanh()\n",
       "    )\n",
       "  )\n",
       "  (dropout): Dropout(p=0.1, inplace=False)\n",
       "  (classifier): Linear(in_features=768, out_features=5, bias=True)\n",
       ")"
      ]
     },
     "execution_count": 9,
     "metadata": {},
     "output_type": "execute_result"
    }
   ],
   "execution_count": 9
  },
  {
   "metadata": {
    "ExecuteTime": {
     "end_time": "2024-12-05T14:09:00.590173Z",
     "start_time": "2024-12-05T14:09:00.587894Z"
    }
   },
   "cell_type": "code",
   "source": "print(f\"Model loaded on {device}\")",
   "id": "a1d47b5dfca804aa",
   "outputs": [
    {
     "name": "stdout",
     "output_type": "stream",
     "text": [
      "Model loaded on cpu\n"
     ]
    }
   ],
   "execution_count": 10
  },
  {
   "metadata": {},
   "cell_type": "markdown",
   "source": "### Data preprocessing",
   "id": "788fdd95477591"
  },
  {
   "metadata": {
    "ExecuteTime": {
     "end_time": "2024-12-05T14:09:00.640017Z",
     "start_time": "2024-12-05T14:09:00.637869Z"
    }
   },
   "cell_type": "code",
   "source": [
    "from torch.utils.data import Dataset, DataLoader\n",
    "from typing import Dict\n",
    "import torch\n",
    "from transformers import AutoTokenizer\n",
    "import pandas as pd"
   ],
   "id": "9cd4f99ffef12069",
   "outputs": [],
   "execution_count": 11
  },
  {
   "metadata": {
    "ExecuteTime": {
     "end_time": "2024-12-05T14:09:00.688468Z",
     "start_time": "2024-12-05T14:09:00.684022Z"
    }
   },
   "cell_type": "code",
   "source": [
    "class ReviewDataset(Dataset):\n",
    "    def __init__(\n",
    "        self,\n",
    "        reviews_df: pd.DataFrame,\n",
    "        tokenizer: AutoTokenizer,\n",
    "        max_length: int = 512\n",
    "    ) -> None:\n",
    "        self.reviews = reviews_df\n",
    "        self.tokenizer = tokenizer\n",
    "        self.max_length = max_length\n",
    "\n",
    "    def __len__(self) -> int:\n",
    "        return len(self.reviews)\n",
    "\n",
    "    def __getitem__(self, idx: int) -> Dict[str, torch.Tensor]:\n",
    "        review = self.reviews.iloc[idx]\n",
    "        \n",
    "        # Concatenate the title and text\n",
    "        text = f\"{review['title']} {review['text']}\"\n",
    "        \n",
    "        # Tokenize the text\n",
    "        encoding = self.tokenizer(\n",
    "            text,\n",
    "            max_length=self.max_length,\n",
    "            padding=\"max_length\",\n",
    "            truncation=True,\n",
    "            return_tensors=\"pt\"\n",
    "        )\n",
    "\n",
    "        return {\n",
    "            \"input_ids\": encoding[\"input_ids\"].flatten(),\n",
    "            \"attention_mask\": encoding[\"attention_mask\"].flatten(),\n",
    "            \"rating\": torch.tensor(review[\"rating\"], dtype=torch.float)\n",
    "        }"
   ],
   "id": "6c64f60035c11f30",
   "outputs": [],
   "execution_count": 12
  },
  {
   "metadata": {
    "ExecuteTime": {
     "end_time": "2024-12-05T14:09:00.735375Z",
     "start_time": "2024-12-05T14:09:00.732233Z"
    }
   },
   "cell_type": "code",
   "source": [
    "def create_data_loader(\n",
    "    df: pd.DataFrame,\n",
    "    tokenizer: AutoTokenizer,\n",
    "    batch_size: int = 8,\n",
    "    max_length: int = 512\n",
    ") -> DataLoader:\n",
    "    \"\"\"\n",
    "    Creates a DataLoader for the reviews dataset\n",
    "    \"\"\"\n",
    "    dataset = ReviewDataset(\n",
    "        reviews_df=df,\n",
    "        tokenizer=tokenizer,\n",
    "        max_length=max_length\n",
    "    )\n",
    "    \n",
    "    return DataLoader(\n",
    "        dataset,\n",
    "        batch_size=batch_size,\n",
    "        shuffle=True\n",
    "    )"
   ],
   "id": "dc512be2dde95b17",
   "outputs": [],
   "execution_count": 13
  },
  {
   "metadata": {
    "ExecuteTime": {
     "end_time": "2024-12-05T14:09:00.782913Z",
     "start_time": "2024-12-05T14:09:00.780227Z"
    }
   },
   "cell_type": "code",
   "source": [
    "# Create a DataLoader for the reviews dataset\n",
    "batch_size = 8\n",
    "dataloader = create_data_loader(reviews_df, model_tokenizer, batch_size=batch_size)"
   ],
   "id": "cfd0a613231ffa3c",
   "outputs": [],
   "execution_count": 14
  },
  {
   "metadata": {
    "ExecuteTime": {
     "end_time": "2024-12-05T14:09:00.837240Z",
     "start_time": "2024-12-05T14:09:00.827346Z"
    }
   },
   "cell_type": "code",
   "source": [
    "first_batch = next(iter(dataloader))\n",
    "print(\"Sample review:\")\n",
    "print(f\"Input IDs shape: {first_batch['input_ids'].shape}\")\n",
    "print(f\"Attention mask shape: {first_batch['attention_mask'].shape}\")\n",
    "print(f\"Ratings shape: {first_batch['rating'].shape}\")"
   ],
   "id": "1ea54631b77fcde1",
   "outputs": [
    {
     "name": "stdout",
     "output_type": "stream",
     "text": [
      "Sample review:\n",
      "Input IDs shape: torch.Size([8, 512])\n",
      "Attention mask shape: torch.Size([8, 512])\n",
      "Ratings shape: torch.Size([8])\n"
     ]
    }
   ],
   "execution_count": 15
  },
  {
   "metadata": {},
   "cell_type": "markdown",
   "source": "### Sentiment prediction",
   "id": "1f6e777622b53d22"
  },
  {
   "metadata": {
    "ExecuteTime": {
     "end_time": "2024-12-05T14:09:00.879074Z",
     "start_time": "2024-12-05T14:09:00.876682Z"
    }
   },
   "cell_type": "code",
   "source": [
    "from typing import Dict, List, Tuple\n",
    "import torch\n",
    "import torch.nn.functional as F\n",
    "from transformers import AutoModelForSequenceClassification\n",
    "from torch.utils.data import DataLoader"
   ],
   "id": "cc738e5fef13b1b6",
   "outputs": [],
   "execution_count": 16
  },
  {
   "metadata": {
    "ExecuteTime": {
     "end_time": "2024-12-05T14:09:00.926871Z",
     "start_time": "2024-12-05T14:09:00.922801Z"
    }
   },
   "cell_type": "code",
   "source": [
    "def predict_sentiment(\n",
    "    model: AutoModelForSequenceClassification,\n",
    "    dataloader: DataLoader,\n",
    "    device: torch.device\n",
    ") -> Tuple[List[float], List[float]]:\n",
    "    \"\"\"\n",
    "    Predicts the sentiment of the reviews using the provided model\n",
    "    \n",
    "    Returns:\n",
    "    - predictions\n",
    "    - actual_ratings\n",
    "    \"\"\"\n",
    "    predictions = []\n",
    "    actual_ratings = []\n",
    "    \n",
    "    # Disable gradient updates\n",
    "    with torch.no_grad():\n",
    "        for batch in dataloader:\n",
    "            # Move the batch to the appropriate device\n",
    "            input_ids = batch[\"input_ids\"].to(device)\n",
    "            attention_mask = batch[\"attention_mask\"].to(device)\n",
    "            ratings = batch[\"rating\"].to(device)\n",
    "            \n",
    "            # Forward pass\n",
    "            outputs = model(\n",
    "                input_ids=input_ids,\n",
    "                attention_mask=attention_mask\n",
    "            )\n",
    "            \n",
    "            # Apply the softmax function to the logits\n",
    "            probs = F.softmax(outputs.logits, dim=1)\n",
    "            \n",
    "            # Get the predicted ratings\n",
    "            predicted_ratings = torch.argmax(probs, dim=1) + 1\n",
    "            \n",
    "            # Store the predictions and actual ratings\n",
    "            predictions.extend(predicted_ratings.cpu().tolist())\n",
    "            actual_ratings.extend(ratings.cpu().tolist())\n",
    "    \n",
    "    return predictions, actual_ratings"
   ],
   "id": "90f1141f9407813b",
   "outputs": [],
   "execution_count": 17
  },
  {
   "metadata": {
    "ExecuteTime": {
     "end_time": "2024-12-05T14:09:00.973105Z",
     "start_time": "2024-12-05T14:09:00.969878Z"
    }
   },
   "cell_type": "code",
   "source": [
    "def calculate_metrics(\n",
    "    predictions: List[float],\n",
    "    actual_ratings: List[float]\n",
    ") -> Dict[str, float]:\n",
    "    \"\"\"\n",
    "    Calculates the performance metrics for the sentiment analysis model\n",
    "    \"\"\"\n",
    "    predictions_tensor = torch.tensor(predictions)\n",
    "    actual_ratings_tensor = torch.tensor(actual_ratings)\n",
    "    \n",
    "    # Pearson correlation\n",
    "    correlation = torch.corrcoef(\n",
    "        torch.stack([predictions_tensor.float(), actual_ratings_tensor.float()])\n",
    "    )[0,1].item()\n",
    "    \n",
    "    # Accuracy\n",
    "    accuracy = (predictions_tensor == actual_ratings_tensor).float().mean().item()\n",
    "    \n",
    "    return {\n",
    "        \"correlation\": correlation,\n",
    "        \"accuracy\": accuracy\n",
    "    }"
   ],
   "id": "2aacb309a9f65d7",
   "outputs": [],
   "execution_count": 18
  },
  {
   "metadata": {
    "ExecuteTime": {
     "end_time": "2024-12-05T14:09:59.419148Z",
     "start_time": "2024-12-05T14:09:01.016575Z"
    }
   },
   "cell_type": "code",
   "source": "predictions, actual_ratings = predict_sentiment(model, dataloader, device)",
   "id": "d23694a8777b303",
   "outputs": [],
   "execution_count": 19
  },
  {
   "metadata": {
    "ExecuteTime": {
     "end_time": "2024-12-05T14:09:59.447475Z",
     "start_time": "2024-12-05T14:09:59.443379Z"
    }
   },
   "cell_type": "code",
   "source": [
    "metrics = calculate_metrics(predictions, actual_ratings)\n",
    "print(\"\\nPerformance metrics:\")\n",
    "print(f\"Pearson correlation: {metrics['correlation']:.3f}\")\n",
    "print(f\"Accuracy: {metrics['accuracy']:.3f}\")"
   ],
   "id": "30b5effaf2d5aeda",
   "outputs": [
    {
     "name": "stdout",
     "output_type": "stream",
     "text": [
      "\n",
      "Performance metrics:\n",
      "Pearson correlation: 0.874\n",
      "Accuracy: 0.730\n"
     ]
    }
   ],
   "execution_count": 20
  },
  {
   "metadata": {},
   "cell_type": "markdown",
   "source": "### Bonus: Visualizing the results",
   "id": "5c93c61ee8c8f9de"
  },
  {
   "metadata": {
    "ExecuteTime": {
     "end_time": "2024-12-05T14:09:59.490832Z",
     "start_time": "2024-12-05T14:09:59.488862Z"
    }
   },
   "cell_type": "code",
   "source": [
    "import matplotlib.pyplot as plt\n",
    "import seaborn as sns\n",
    "from typing import List, Tuple\n",
    "import numpy as np"
   ],
   "id": "3848d472a9384d76",
   "outputs": [],
   "execution_count": 21
  },
  {
   "metadata": {
    "ExecuteTime": {
     "end_time": "2024-12-05T14:09:59.540846Z",
     "start_time": "2024-12-05T14:09:59.534346Z"
    }
   },
   "cell_type": "code",
   "source": [
    "def create_comparison_plots(\n",
    "        predictions: List[float],\n",
    "        actual_ratings: List[float],\n",
    "        figsize: Tuple[int, int] = (15, 5)\n",
    ") -> None:\n",
    "    \"\"\"\n",
    "    Creates comparison plots for the sentiment analysis results\n",
    "    \"\"\"\n",
    "    fig, (ax1, ax2, ax3) = plt.subplots(1, 3, figsize=figsize)\n",
    "\n",
    "    # Actual vs. predicted ratings distribution\n",
    "    df_plot = pd.DataFrame({\n",
    "        \"Predictions\": predictions,\n",
    "        \"Actual ratings\": actual_ratings\n",
    "    })\n",
    "\n",
    "    sns.kdeplot(data=df_plot, ax=ax1)\n",
    "    ax1.set_title(\"Ratings distribution\")\n",
    "    ax1.set_xlabel(\"Rating (1-5)\")\n",
    "    ax1.set_ylabel(\"Density\")\n",
    "\n",
    "    # Boxplot of the ratings\n",
    "    df_plot_melted = df_plot.melt(var_name=\"Type\", value_name=\"Rating\")\n",
    "    sns.boxplot(data=df_plot_melted, x=\"Type\", y=\"Rating\", ax=ax2)\n",
    "    ax2.set_title(\"Ratings boxplot\")\n",
    "\n",
    "    # Confusion matrix\n",
    "    confusion = np.zeros((5, 5))\n",
    "    for pred, actual in zip(predictions, actual_ratings):\n",
    "        confusion[int(pred - 1)][int(actual - 1)] += 1\n",
    "\n",
    "    sns.heatmap(\n",
    "        confusion,\n",
    "        annot=True,\n",
    "        fmt=\"g\",\n",
    "        cmap=\"YlOrRd\",\n",
    "        ax=ax3,\n",
    "        xticklabels=range(1, 6),\n",
    "        yticklabels=range(1, 6)\n",
    "    )\n",
    "    ax3.set_title(\"Confusion matrix\")\n",
    "    ax3.set_xlabel(\"Actual ratings\")\n",
    "    ax3.set_ylabel(\"Predicted ratings\")\n",
    "\n",
    "    plt.tight_layout()\n",
    "    plt.show()"
   ],
   "id": "35dfe3144f2668c4",
   "outputs": [],
   "execution_count": 22
  },
  {
   "metadata": {
    "ExecuteTime": {
     "end_time": "2024-12-05T14:09:59.588630Z",
     "start_time": "2024-12-05T14:09:59.585096Z"
    }
   },
   "cell_type": "code",
   "source": [
    "def print_detailed_stats(\n",
    "        predictions: List[float],\n",
    "        actual_ratings: List[float]\n",
    ") -> None:\n",
    "    \"\"\"\n",
    "    Prints detailed statistics about the sentiment analysis results\n",
    "    \"\"\"\n",
    "    pred_series = pd.Series(predictions)\n",
    "    actual_series = pd.Series(actual_ratings)\n",
    "    \n",
    "    stats = {\n",
    "        \"mean predictions\": pred_series.mean(),\n",
    "        \"mean actual ratings\": actual_series.mean(),\n",
    "        \"std predictions\": pred_series.std(),\n",
    "        \"std actual ratings\": actual_series.std(),\n",
    "        \"median predictions\": pred_series.median(),\n",
    "        \"median actual ratings\": actual_series.median()\n",
    "    }\n",
    "\n",
    "    print(\"\\nDetailed statistics\")\n",
    "    for key, value in stats.items():\n",
    "        print(f\"{key}: {value:.2f}\")"
   ],
   "id": "cd38b1b8adc6dc3d",
   "outputs": [],
   "execution_count": 23
  },
  {
   "metadata": {
    "ExecuteTime": {
     "end_time": "2024-12-05T14:10:00.206010Z",
     "start_time": "2024-12-05T14:09:59.632883Z"
    }
   },
   "cell_type": "code",
   "source": "create_comparison_plots(predictions, actual_ratings)",
   "id": "dd4779929c222db0",
   "outputs": [
    {
     "data": {
      "text/plain": [
       "<Figure size 1500x500 with 4 Axes>"
      ],
      "image/png": "[encoded data removed]"
     },
     "metadata": {},
     "output_type": "display_data"
    }
   ],
   "execution_count": 24
  },
  {
   "metadata": {},
   "cell_type": "markdown",
   "source": "Thanks to the above graphs, we can see that the model interprets the sentiments of the comments very well, since it finds the ratings given by the customers. The predicted ratings are very close to the actual ratings, even identical.",
   "id": "315a5b182794ce50"
  },
  {
   "metadata": {
    "ExecuteTime": {
     "end_time": "2024-12-05T14:10:00.230246Z",
     "start_time": "2024-12-05T14:10:00.227086Z"
    }
   },
   "cell_type": "code",
   "source": "print_detailed_stats(predictions, actual_ratings)",
   "id": "514374d3c6353606",
   "outputs": [
    {
     "name": "stdout",
     "output_type": "stream",
     "text": [
      "\n",
      "Detailed statistics\n",
      "mean predictions: 4.02\n",
      "mean actual ratings: 4.14\n",
      "std predictions: 1.33\n",
      "std actual ratings: 1.35\n",
      "median predictions: 5.00\n",
      "median actual ratings: 5.00\n"
     ]
    }
   ],
   "execution_count": 25
  },
  {
   "metadata": {
    "ExecuteTime": {
     "end_time": "2024-12-05T14:10:00.275904Z",
     "start_time": "2024-12-05T14:10:00.273967Z"
    }
   },
   "cell_type": "code",
   "source": "",
   "id": "b170331966c26110",
   "outputs": [],
   "execution_count": null
  }
 ],
 "metadata": {
  "kernelspec": {
   "display_name": "Python 3",
   "language": "python",
   "name": "python3"
  },
  "language_info": {
   "codemirror_mode": {
    "name": "ipython",
    "version": 2
   },
   "file_extension": ".py",
   "mimetype": "text/x-python",
   "name": "python",
   "nbconvert_exporter": "python",
   "pygments_lexer": "ipython2",
   "version": "2.7.6"
  }
 },
 "nbformat": 4,
 "nbformat_minor": 5
}
